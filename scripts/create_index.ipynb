{
 "cells": [
  {
   "cell_type": "code",
   "execution_count": 28,
   "metadata": {},
   "outputs": [],
   "source": [
    "import geopandas\n",
    "import pandas as pd"
   ]
  },
  {
   "cell_type": "code",
   "execution_count": 29,
   "metadata": {},
   "outputs": [],
   "source": [
    "AUSTRALIA_EPSG = \"EPSG:3112\" # https://epsg.io/3112"
   ]
  },
  {
   "cell_type": "code",
   "execution_count": 30,
   "metadata": {},
   "outputs": [],
   "source": [
    "df1 = geopandas.read_file(\n",
    "    \"data/0/V_PROPERTY_MP_ADDRESS.shp\",\n",
    "    columns=[\"EZI_ADD\", \"geometry\"],\n",
    ")\n",
    "df2 = geopandas.read_file(\n",
    "    \"data/1/V_PROPERTY_MP_ADDRESS.shp\",\n",
    "    columns=[\"EZI_ADD\", \"geometry\"],\n",
    ")\n",
    "\n",
    "df = pd.concat([df1, df2])"
   ]
  },
  {
   "cell_type": "markdown",
   "metadata": {},
   "source": [
    "## Cast Geometry Co-Ordinates to Australian EPSG cordindates\n",
    "\n",
    "- This allows measuring distances between polygons in meteres to an accuracy of 3 meters"
   ]
  },
  {
   "cell_type": "code",
   "execution_count": 31,
   "metadata": {},
   "outputs": [],
   "source": [
    "df[\"geometry\"] = df[\"geometry\"].to_crs(AUSTRALIA_EPSG)"
   ]
  },
  {
   "cell_type": "markdown",
   "metadata": {},
   "source": [
    "## Retrieve Co-Ordinates for Wonthaggi Wind farm"
   ]
  },
  {
   "cell_type": "code",
   "execution_count": null,
   "metadata": {},
   "outputs": [],
   "source": [
    "wind_farm_df = df[df[\"EZI_ADD\"] == \"165 CAMPBELL STREET WONTHAGGI 3995\"]\n",
    "wind_farm_coordinates = wind_farm_df.iloc[0].geometry\n",
    "\n",
    "wind_farm_df.explore()"
   ]
  },
  {
   "cell_type": "markdown",
   "metadata": {},
   "source": [
    "## Calculate distance of each address to Wind Farm Co-Ordinates"
   ]
  },
  {
   "cell_type": "code",
   "execution_count": null,
   "metadata": {},
   "outputs": [],
   "source": [
    "df[\"distance_meters\"] = df[\"geometry\"].hausdorff_distance(wind_farm_coordinates)\n",
    "\n",
    "df[df[\"EZI_ADD\"] == \"5 FAHEY STREET WONTHAGGI 3995\"]"
   ]
  },
  {
   "cell_type": "code",
   "execution_count": null,
   "metadata": {},
   "outputs": [],
   "source": [
    "QUALIFYING_DISTANCE_METERS = 10_000\n",
    "\n",
    "qualifying_df = df[df[\"distance_meters\"] <= QUALIFYING_DISTANCE_METERS]\n",
    "\n",
    "qualifying_df.explore()"
   ]
  }
 ],
 "metadata": {
  "kernelspec": {
   "display_name": ".venv",
   "language": "python",
   "name": "python3"
  },
  "language_info": {
   "codemirror_mode": {
    "name": "ipython",
    "version": 3
   },
   "file_extension": ".py",
   "mimetype": "text/x-python",
   "name": "python",
   "nbconvert_exporter": "python",
   "pygments_lexer": "ipython3",
   "version": "3.12.8"
  }
 },
 "nbformat": 4,
 "nbformat_minor": 2
}
