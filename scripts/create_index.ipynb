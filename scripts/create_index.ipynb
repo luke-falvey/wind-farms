{
 "cells": [
  {
   "cell_type": "code",
   "execution_count": 2,
   "metadata": {},
   "outputs": [],
   "source": [
    "import geopandas\n",
    "import pandas as pd\n",
    "from shapely.geometry import Point"
   ]
  },
  {
   "cell_type": "code",
   "execution_count": 3,
   "metadata": {},
   "outputs": [],
   "source": [
    "AUSTRALIA_EPSG = 3112  # https://epsg.io/3112\n",
    "WONTHAGGI_WIND_FARM = Point(1014571.5425730366, -4388049.932849389)  # In EPSG:3112"
   ]
  },
  {
   "cell_type": "code",
   "execution_count": 4,
   "metadata": {},
   "outputs": [],
   "source": [
    "df = geopandas.read_file(\n",
    "    \"data/0/V_PROPERTY_MP_ADDRESS.shp\",\n",
    "    # columns=[\"EZI_ADD\", \"geometry\"],\n",
    "    rows=10\n",
    ")"
   ]
  },
  {
   "cell_type": "code",
   "execution_count": null,
   "metadata": {},
   "outputs": [],
   "source": [
    "list(df.columns)"
   ]
  },
  {
   "cell_type": "code",
   "execution_count": null,
   "metadata": {},
   "outputs": [],
   "source": [
    "dict(df.iloc[0])"
   ]
  },
  {
   "cell_type": "code",
   "execution_count": 3,
   "metadata": {},
   "outputs": [],
   "source": [
    "df1 = geopandas.read_file(\n",
    "    \"data/0/V_PROPERTY_MP_ADDRESS.shp\",\n",
    "    columns=[\"EZI_ADD\", \"geometry\"],\n",
    ")\n",
    "df2 = geopandas.read_file(\n",
    "    \"data/1/V_PROPERTY_MP_ADDRESS.shp\",\n",
    "    columns=[\"EZI_ADD\", \"geometry\"],\n",
    ")"
   ]
  },
  {
   "cell_type": "code",
   "execution_count": 4,
   "metadata": {},
   "outputs": [],
   "source": [
    "df = pd.concat([df1, df2])\n",
    "df[\"distance_meters\"] = (\n",
    "    df[\"geometry\"]\n",
    "    .to_crs(\"EPSG:3112\")\n",
    "    .representative_point()\n",
    "    .distance(WONTHAGGI_WIND_FARM)\n",
    ")\n",
    "df = df[df[\"distance_meters\"] < 10_000]"
   ]
  },
  {
   "cell_type": "code",
   "execution_count": null,
   "metadata": {},
   "outputs": [],
   "source": [
    "df.explore()"
   ]
  },
  {
   "cell_type": "code",
   "execution_count": null,
   "metadata": {},
   "outputs": [],
   "source": [
    "df"
   ]
  },
  {
   "cell_type": "code",
   "execution_count": null,
   "metadata": {},
   "outputs": [],
   "source": []
  }
 ],
 "metadata": {
  "kernelspec": {
   "display_name": ".venv",
   "language": "python",
   "name": "python3"
  },
  "language_info": {
   "codemirror_mode": {
    "name": "ipython",
    "version": 3
   },
   "file_extension": ".py",
   "mimetype": "text/x-python",
   "name": "python",
   "nbconvert_exporter": "python",
   "pygments_lexer": "ipython3",
   "version": "3.12.8"
  }
 },
 "nbformat": 4,
 "nbformat_minor": 2
}
